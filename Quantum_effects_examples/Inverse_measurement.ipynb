{
 "cells": [
  {
   "cell_type": "code",
   "execution_count": 61,
   "metadata": {},
   "outputs": [],
   "source": [
    "import numpy as np\n",
    "from scipy.stats import unitary_group\n",
    "from numpy.linalg import inv\n",
    "from numpy.linalg import eig"
   ]
  },
  {
   "cell_type": "code",
   "execution_count": 62,
   "metadata": {},
   "outputs": [],
   "source": [
    "U = unitary_group.rvs(4)\n",
    "M1 = np.reshape(U[0], (2,2))/2**0.5\n",
    "M2 = np.reshape(U[1], (2,2))/2**0.5\n",
    "M3 = np.reshape(U[2], (2,2))/2**0.5\n",
    "M4 = np.reshape(U[3], (2,2))/2**0.5"
   ]
  },
  {
   "cell_type": "code",
   "execution_count": 63,
   "metadata": {},
   "outputs": [
    {
     "data": {
      "text/plain": [
       "array([[1.0000000e+00+0.00000000e+00j, 6.9388939e-17+5.55111512e-17j],\n",
       "       [6.9388939e-17-5.55111512e-17j, 1.0000000e+00+0.00000000e+00j]])"
      ]
     },
     "execution_count": 63,
     "metadata": {},
     "output_type": "execute_result"
    }
   ],
   "source": [
    "M1@np.conjugate(M1).T + M2@np.conjugate(M2).T + M3@np.conjugate(M3).T + M4@np.conjugate(M4).T "
   ]
  },
  {
   "cell_type": "code",
   "execution_count": 86,
   "metadata": {},
   "outputs": [],
   "source": [
    "# генерирует чистое состояние\n",
    "def gen_psi(d, k):\n",
    "    c = np.random.randn(d*k) + 1j*np.random.randn(d*k)\n",
    "    c = c/((abs(c)**2).sum()**0.5)\n",
    "    return c"
   ]
  },
  {
   "cell_type": "code",
   "execution_count": 87,
   "metadata": {},
   "outputs": [],
   "source": [
    "psi = gen_psi(2, 1)"
   ]
  },
  {
   "cell_type": "code",
   "execution_count": 88,
   "metadata": {},
   "outputs": [],
   "source": [
    "psi_M1 = M1 @ psi /(np.conjugate(psi) @ np.conjugate(M1).T @ M1 @ psi)**0.5"
   ]
  },
  {
   "cell_type": "code",
   "execution_count": 90,
   "metadata": {},
   "outputs": [],
   "source": [
    "F1_inv = inv(M1)@np.conjugate(inv(M1)).T\n",
    "s, vec = np.linalg.eig(F1_inv)\n",
    "c = np.sqrt(1/max(s))"
   ]
  },
  {
   "cell_type": "code",
   "execution_count": 91,
   "metadata": {},
   "outputs": [],
   "source": [
    "F1_inv = inv(M1)@np.conjugate(inv(M1)).T\n",
    "s, vec = np.linalg.eig(F1_inv)\n",
    "c = np.sqrt(1/max(s))\n",
    "\n",
    "M1_inv = c*inv(M1)\n",
    "F2_inv = np.eye(2) - M1_inv@np.conjugate(M1_inv).T\n",
    "d, u = eig(F2_inv)\n",
    "M2_inv = u*d**0.5"
   ]
  },
  {
   "cell_type": "code",
   "execution_count": 100,
   "metadata": {},
   "outputs": [
    {
     "data": {
      "text/plain": [
       "array([3.38441393e-16-5.13648461e-17j, 9.66887762e-01+5.13648461e-17j])"
      ]
     },
     "execution_count": 100,
     "metadata": {},
     "output_type": "execute_result"
    }
   ],
   "source": [
    "s, vec = np.linalg.eig(F2_inv)\n",
    "s"
   ]
  },
  {
   "cell_type": "code",
   "execution_count": 101,
   "metadata": {},
   "outputs": [
    {
     "data": {
      "text/plain": [
       "array([[ 1.00000000e+00+0.00000000e+00j, -1.11022302e-16-5.55111512e-17j],\n",
       "       [-1.11022302e-16+5.55111512e-17j,  1.00000000e+00+0.00000000e+00j]])"
      ]
     },
     "execution_count": 101,
     "metadata": {},
     "output_type": "execute_result"
    }
   ],
   "source": [
    "M1_inv@np.conjugate(M1_inv).T + M2_inv@np.conjugate(M2_inv).T"
   ]
  },
  {
   "cell_type": "code",
   "execution_count": 102,
   "metadata": {},
   "outputs": [],
   "source": [
    "psi_M1_inv = M1_inv @ psi_M1 /(np.conjugate(psi_M1) @ np.conjugate(M1_inv).T @ M1_inv @ psi_M1)**0.5"
   ]
  },
  {
   "cell_type": "code",
   "execution_count": 94,
   "metadata": {},
   "outputs": [
    {
     "data": {
      "text/plain": [
       "(1+2.7755575615628914e-16j)"
      ]
     },
     "execution_count": 94,
     "metadata": {},
     "output_type": "execute_result"
    }
   ],
   "source": [
    "np.conjugate(psi)@psi_M1_inv"
   ]
  },
  {
   "cell_type": "code",
   "execution_count": 95,
   "metadata": {},
   "outputs": [
    {
     "data": {
      "text/plain": [
       "0.22878156473011177"
      ]
     },
     "execution_count": 95,
     "metadata": {},
     "output_type": "execute_result"
    }
   ],
   "source": [
    "abs(np.conjugate(psi_M1_inv)@psi_M1)**2"
   ]
  },
  {
   "cell_type": "code",
   "execution_count": 96,
   "metadata": {},
   "outputs": [
    {
     "data": {
      "text/plain": [
       "(0.036320429959511985-3.469446951953614e-18j)"
      ]
     },
     "execution_count": 96,
     "metadata": {},
     "output_type": "execute_result"
    }
   ],
   "source": [
    "(np.conjugate(psi_M1) @ np.conjugate(M1_inv).T @ M1_inv @ psi_M1)"
   ]
  },
  {
   "cell_type": "code",
   "execution_count": 97,
   "metadata": {},
   "outputs": [],
   "source": [
    "# ДЗ - максимизировать"
   ]
  },
  {
   "cell_type": "code",
   "execution_count": 98,
   "metadata": {},
   "outputs": [],
   "source": [
    "def cost(a, psi):\n",
    "    psi_M1 = M1 @ psi /(np.conjugate(psi) @ np.conjugate(M1).T @ M1 @ psi)**0.5\n",
    "    M1_inv = a*inv(M1)\n",
    "    F2_inv = np.eye(2) - M1_inv@np.conjugate(M1_inv).T\n",
    "    d, u = eig(F2_inv)\n",
    "    M2_inv = u*d**0.5\n",
    "    \n",
    "    psi_M1_inv = M1_inv @ psi_M1 /(np.conjugate(psi_M1) @ np.conjugate(M1_inv).T @ M1_inv @ psi_M1)**0.5\n",
    "    return abs(np.conjugate(psi_M1_inv)@psi_M1)**2"
   ]
  },
  {
   "cell_type": "code",
   "execution_count": 99,
   "metadata": {},
   "outputs": [
    {
     "data": {
      "text/plain": [
       "0.22878156473011194"
      ]
     },
     "execution_count": 99,
     "metadata": {},
     "output_type": "execute_result"
    }
   ],
   "source": [
    "cost(a = 0.3, psi = psi)"
   ]
  },
  {
   "cell_type": "code",
   "execution_count": null,
   "metadata": {},
   "outputs": [],
   "source": []
  },
  {
   "cell_type": "code",
   "execution_count": null,
   "metadata": {},
   "outputs": [],
   "source": []
  }
 ],
 "metadata": {
  "kernelspec": {
   "display_name": "Python 3",
   "language": "python",
   "name": "python3"
  },
  "language_info": {
   "codemirror_mode": {
    "name": "ipython",
    "version": 3
   },
   "file_extension": ".py",
   "mimetype": "text/x-python",
   "name": "python",
   "nbconvert_exporter": "python",
   "pygments_lexer": "ipython3",
   "version": "3.7.11"
  }
 },
 "nbformat": 4,
 "nbformat_minor": 4
}
