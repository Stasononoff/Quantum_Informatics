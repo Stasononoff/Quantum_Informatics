{
 "cells": [
  {
   "cell_type": "code",
   "execution_count": 5,
   "id": "3a2d66aa",
   "metadata": {},
   "outputs": [],
   "source": [
    "%load_ext autoreload\n",
    "%autoreload 2"
   ]
  },
  {
   "cell_type": "code",
   "execution_count": 8,
   "id": "18b6d792",
   "metadata": {},
   "outputs": [],
   "source": [
    "import numpy as np\n",
    "import copy\n",
    "import itertools\n",
    "from scipy import linalg as sLA\n",
    "from numpy import linalg as LA\n",
    "import time\n",
    "from copy import deepcopy\n",
    "from scipy.stats import unitary_group\n",
    "import cmath\n",
    "from matplotlib import pyplot as plt\n",
    "\n",
    "\n",
    "\n",
    "import sys\n",
    "sys.path.append(\"../scripts\")\n",
    "\n",
    "\n",
    "\n",
    "from Gates import *\n",
    "from functions import *\n",
    "from state import *\n",
    "from Unitary import *"
   ]
  },
  {
   "cell_type": "markdown",
   "id": "0d5a5c04",
   "metadata": {},
   "source": [
    "<!-- ![%D0%B8%D0%B7%D0%BE%D0%B1%D1%80%D0%B0%D0%B6%D0%B5%D0%BD%D0%B8%D0%B5.png](attachment:%D0%B8%D0%B7%D0%BE%D0%B1%D1%80%D0%B0%D0%B6%D0%B5%D0%BD%D0%B8%D0%B5.png) -->"
   ]
  },
  {
   "cell_type": "code",
   "execution_count": 9,
   "id": "54f0eaaf",
   "metadata": {},
   "outputs": [
    {
     "name": "stdout",
     "output_type": "stream",
     "text": [
      "[0.52782592+0.52526674j 0.        +0.j         0.        +0.j\n",
      " 0.        +0.j         0.58530302+0.32080371j 0.        +0.j\n",
      " 0.        +0.j         0.        +0.j        ] [0.74465116+0.j         0.64116684-0.18547167j] [1.+0.j 0.+0.j 0.+0.j 0.+0.j]\n"
     ]
    }
   ],
   "source": [
    "np.random.seed(8)\n",
    "state0 = Qpsi(1)\n",
    "state0.build_random_state()\n",
    "\n",
    "state12 = Qpsi(2)\n",
    "state12.build_zero_state()\n",
    "coefs = np.kron(state0.get_coefs(), state12.get_coefs())\n",
    "\n",
    "state = Qpsi(3)\n",
    "state.set_coefs(coefs)\n",
    "\n",
    "state.split_system(1,2)\n",
    "init_A = state.get_A_coefs()\n",
    "print(state.get_coefs(), state.get_A_coefs(), state.get_B_coefs())"
   ]
  },
  {
   "cell_type": "code",
   "execution_count": 10,
   "id": "de6ae003",
   "metadata": {},
   "outputs": [
    {
     "data": {
      "text/plain": [
       "(array([0.74465116+0.j        , 0.64116684-0.18547167j]),\n",
       " array([0.74465116+0.j        , 0.64116684-0.18547167j]))"
      ]
     },
     "execution_count": 10,
     "metadata": {},
     "output_type": "execute_result"
    }
   ],
   "source": [
    "state.apply_U(H(), [1])\n",
    "state.apply_U(CX(), [1,2])\n",
    "state.apply_U(CX(), [0,1])\n",
    "state.apply_U(H(), [0])\n",
    "state.apply_U(CX(), [1,2])\n",
    "state.apply_U(CZ(), [0,2])\n",
    "\n",
    "state.split_system(2,1)\n",
    "init_A, state.get_B_coefs()"
   ]
  },
  {
   "cell_type": "code",
   "execution_count": null,
   "id": "6d3b2ada",
   "metadata": {},
   "outputs": [],
   "source": []
  },
  {
   "cell_type": "code",
   "execution_count": null,
   "id": "ac563833",
   "metadata": {},
   "outputs": [],
   "source": []
  }
 ],
 "metadata": {
  "kernelspec": {
   "display_name": "Python 3",
   "language": "python",
   "name": "python3"
  },
  "language_info": {
   "codemirror_mode": {
    "name": "ipython",
    "version": 3
   },
   "file_extension": ".py",
   "mimetype": "text/x-python",
   "name": "python",
   "nbconvert_exporter": "python",
   "pygments_lexer": "ipython3",
   "version": "3.7.11"
  }
 },
 "nbformat": 4,
 "nbformat_minor": 5
}
