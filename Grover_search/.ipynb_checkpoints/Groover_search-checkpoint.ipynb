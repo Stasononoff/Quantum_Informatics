{
 "cells": [
  {
   "cell_type": "code",
   "execution_count": 2,
   "metadata": {},
   "outputs": [],
   "source": [
    "import numpy as np\n",
    "import copy\n",
    "import itertools\n",
    "from scipy import linalg as sLA\n",
    "from numpy import linalg as LA\n",
    "import time\n",
    "from numba import njit\n",
    "from numba import jit\n",
    "\n",
    "import sys\n",
    "sys.path.append(\"../scripts\")\n",
    "\n",
    "\n",
    "from Gates import *\n",
    "from functions import *\n",
    "from state import *"
   ]
  },
  {
   "cell_type": "code",
   "execution_count": 3,
   "metadata": {},
   "outputs": [],
   "source": [
    "def grover_block(State, N = 2, n_list = [0]):\n",
    "    \n",
    "    apply_oracle(State, N = N, n_list = n_list)\n",
    "    \n",
    "    for i in range(N):\n",
    "        State.apply_U(U = H(), axis = [i])\n",
    "        \n",
    "    for i in range(N):\n",
    "        State.apply_U(U = X(), axis = [i])\n",
    "        \n",
    "    State.apply_U(U = H(), axis = [N-1])\n",
    "    \n",
    "    State.apply_long_Toffoli(axis = list(range(N)))\n",
    "    \n",
    "    State.apply_U(U = H(), axis = [N-1])\n",
    "        \n",
    "    for i in range(N):\n",
    "        State.apply_U(U = X(), axis = [i])\n",
    "        \n",
    "    for i in range(N):\n",
    "        State.apply_U(U = H(), axis = [i])\n",
    "        \n",
    "    \n",
    "\n",
    "def Grover_search(N = 2, n_list = [0]):\n",
    "    State = Qpsi(N+1)\n",
    "    State.build_zero_state()\n",
    "    \n",
    "    State.apply_U(U = X(), axis = [N])\n",
    "    \n",
    "    for i in range (N+1):\n",
    "        State.apply_U(U = H(), axis = [i])\n",
    "        \n",
    "    \n",
    "    i = 1\n",
    "    while i < (np.pi/4*np.sqrt(2**(N)/len(n_list))):\n",
    "        print(i)\n",
    "        grover_block(State, N = N, n_list = n_list)\n",
    "        i+=1\n",
    "        \n",
    "\n",
    "\n",
    "    \n",
    "        \n",
    "    State.apply_U(U = H(), axis = [N])\n",
    "    \n",
    "    \n",
    "        \n",
    "    return State.get_coefs()"
   ]
  },
  {
   "cell_type": "code",
   "execution_count": 4,
   "metadata": {},
   "outputs": [],
   "source": [
    "def apply_oracle(State, n_list = [0], N = 2):\n",
    "    \n",
    "    \n",
    "    for n in n_list:\n",
    "        \n",
    "        mask = list(map(int, list(reversed(bin(2**N-1-n)[2:]))))\n",
    "        mask.extend([0]*(N-len(mask)))\n",
    "        mask = list(map(bool, mask))\n",
    "        axis_list = np.array(list(range(N)))\n",
    "        axis_list = axis_list[mask]\n",
    "\n",
    "\n",
    "        if len(axis_list) > 0:\n",
    "            for a in axis_list:\n",
    "                State.apply_U(U = X(), axis = [a])\n",
    "\n",
    "        State.apply_long_Toffoli(axis = list(range(N+1)))\n",
    "\n",
    "        if len(axis_list) > 0:\n",
    "            for a in axis_list:\n",
    "                State.apply_U(U = X(), axis = [a])\n",
    "\n",
    "\n",
    "    \n",
    "        "
   ]
  },
  {
   "cell_type": "code",
   "execution_count": 5,
   "metadata": {},
   "outputs": [
    {
     "name": "stdout",
     "output_type": "stream",
     "text": [
      "1\n"
     ]
    },
    {
     "name": "stderr",
     "output_type": "stream",
     "text": [
      "../scripts/functions.py:164: ComplexWarning: Casting complex values to real discards the imaginary part\n",
      "  exp_coefs[:len(c)] = c\n"
     ]
    },
    {
     "name": "stdout",
     "output_type": "stream",
     "text": [
      "2\n",
      "3\n",
      "4\n"
     ]
    }
   ],
   "source": [
    "vec = Grover_search(N = 5, n_list = np.array([3]))"
   ]
  },
  {
   "cell_type": "code",
   "execution_count": 6,
   "metadata": {},
   "outputs": [
    {
     "name": "stdout",
     "output_type": "stream",
     "text": [
      "1\n",
      "2\n",
      "3\n",
      "4\n"
     ]
    },
    {
     "data": {
      "text/plain": [
       "(array([0.00000000e+00, 0.00000000e+00, 0.00000000e+00, 0.00000000e+00,\n",
       "        0.00000000e+00, 0.00000000e+00, 0.00000000e+00, 0.00000000e+00,\n",
       "        0.00000000e+00, 0.00000000e+00, 0.00000000e+00, 0.00000000e+00,\n",
       "        0.00000000e+00, 0.00000000e+00, 0.00000000e+00, 0.00000000e+00,\n",
       "        0.00000000e+00, 0.00000000e+00, 0.00000000e+00, 0.00000000e+00,\n",
       "        0.00000000e+00, 0.00000000e+00, 0.00000000e+00, 0.00000000e+00,\n",
       "        0.00000000e+00, 0.00000000e+00, 0.00000000e+00, 0.00000000e+00,\n",
       "        0.00000000e+00, 0.00000000e+00, 0.00000000e+00, 0.00000000e+00,\n",
       "        0.00000000e+00, 2.63769180e-05, 2.63769180e-05, 2.63769180e-05,\n",
       "        2.63769180e-05, 2.63769180e-05, 2.63769180e-05, 2.63769180e-05,\n",
       "        2.63769180e-05, 2.63769180e-05, 2.63769180e-05, 2.63769180e-05,\n",
       "        2.63769180e-05, 2.63769180e-05, 2.63769180e-05, 2.63769180e-05,\n",
       "        2.63769180e-05, 2.63769180e-05, 2.63769180e-05, 2.63769180e-05,\n",
       "        2.63769180e-05, 2.63769180e-05, 2.63769180e-05, 2.63769180e-05,\n",
       "        2.63769180e-05, 2.63769180e-05, 2.63769180e-05, 2.63769180e-05,\n",
       "        2.63769180e-05, 2.63769180e-05, 2.63769180e-05, 9.99182316e-01]),\n",
       " array([4.81482486e-33-1.36992112e-48j, 3.12500000e-02+2.67293647e-33j,\n",
       "        1.63463304e-32+2.54663729e-32j, 3.12500000e-02-2.94902991e-17j,\n",
       "        4.81482486e-33-2.57947635e-48j, 3.12500000e-02+5.75442438e-33j,\n",
       "        4.23463847e-32+3.70419970e-32j, 3.12500000e-02-2.94902991e-17j,\n",
       "        1.73333695e-33-8.21952669e-49j, 3.12500000e-02+2.67293647e-33j,\n",
       "        2.55907941e-32+3.00966225e-32j, 3.12500000e-02-2.94902991e-17j,\n",
       "        3.08148791e-33-1.09593689e-48j, 3.12500000e-02+2.67293647e-33j,\n",
       "        4.23463847e-32+3.70419970e-32j, 3.12500000e-02-2.94902991e-17j,\n",
       "        1.73333695e-33+3.20731765e-50j, 3.12500000e-02+1.36183812e-34j,\n",
       "        1.03976143e-31+5.55629954e-32j, 3.12500000e-02-2.94902991e-17j,\n",
       "        3.08148791e-33+4.27642354e-50j, 3.12500000e-02+1.36183812e-34j,\n",
       "        5.54427083e-32+4.16722466e-32j, 3.12500000e-02-2.94902991e-17j,\n",
       "        7.70371978e-34+2.13821177e-50j, 3.12500000e-02+1.36183812e-34j,\n",
       "        9.49242721e-32+5.32478706e-32j, 3.12500000e-02-2.94902991e-17j,\n",
       "        7.70371978e-34+2.13821177e-50j, 3.12500000e-02+1.36183812e-34j,\n",
       "        1.44035486e-31+6.48234947e-32j, 3.12500000e-02-2.94902991e-17j,\n",
       "        4.81482486e-33-1.36992112e-48j, 3.12500000e-02+2.67293647e-33j,\n",
       "        1.63463304e-32+2.54663729e-32j, 3.12500000e-02-2.94902991e-17j,\n",
       "        4.81482486e-33-2.57947635e-48j, 3.12500000e-02+5.75442438e-33j,\n",
       "        4.23463847e-32+3.70419970e-32j, 3.12500000e-02-2.94902991e-17j,\n",
       "        1.73333695e-33-8.21952669e-49j, 3.12500000e-02+2.67293647e-33j,\n",
       "        2.55907941e-32+3.00966225e-32j, 3.12500000e-02-2.94902991e-17j,\n",
       "        3.08148791e-33-1.09593689e-48j, 3.12500000e-02+2.67293647e-33j,\n",
       "        4.23463847e-32+3.70419970e-32j, 3.12500000e-02-2.94902991e-17j,\n",
       "        1.73333695e-33+3.20731765e-50j, 3.12500000e-02+1.36183812e-34j,\n",
       "        1.03976143e-31+5.55629954e-32j, 3.12500000e-02-2.94902991e-17j,\n",
       "        3.08148791e-33+4.27642354e-50j, 3.12500000e-02+1.36183812e-34j,\n",
       "        5.54427083e-32+4.16722466e-32j, 3.12500000e-02-2.94902991e-17j,\n",
       "        7.70371978e-34+2.13821177e-50j, 3.12500000e-02+1.36183812e-34j,\n",
       "        9.49242721e-32+5.32478706e-32j, 3.12500000e-02-2.94902991e-17j,\n",
       "        7.70371978e-34+2.13821177e-50j, 3.12500000e-02+1.36183812e-34j,\n",
       "        1.44035486e-31+6.48234947e-32j, 3.12500000e-02-2.94902991e-17j]))"
      ]
     },
     "execution_count": 6,
     "metadata": {},
     "output_type": "execute_result"
    }
   ],
   "source": [
    "def out_vec(N, k, sol_vec):\n",
    "    \n",
    "    M = len(sol_vec)\n",
    "    sol_vec = np.array(sol_vec)\n",
    "    sol_vec = 2**N-sol_vec\n",
    "    vec = np.zeros(2**(N+1))\n",
    "    for i in range(1,2**(N)):\n",
    "        if i in set(sol_vec):\n",
    "            vec[-i] = 1/np.sqrt(M)*np.sin((2*k + 1)  * np.arccos(np.sqrt((2**N-M)/2**N)))\n",
    "        else:\n",
    "            vec[-i] = 1/np.sqrt(2**N - M)*np.cos((2*k + 1)  * np.arccos(np.sqrt((2**N-M)/2**N)))\n",
    "    \n",
    "    return vec**2\n",
    "\n",
    "vec = Grover_search(N = 5, n_list = [31])\n",
    "vec_a = out_vec(N = 5, k = 4, sol_vec = [31])\n",
    "vec_a, np.array(vec)**2"
   ]
  },
  {
   "cell_type": "code",
   "execution_count": 7,
   "metadata": {},
   "outputs": [
    {
     "name": "stdout",
     "output_type": "stream",
     "text": [
      "1\n"
     ]
    },
    {
     "data": {
      "text/plain": [
       "array([ 0.00000000e+00+0.00000000e+00j, -1.25000000e-01+0.00000000e+00j,\n",
       "        1.11845672e-32+1.32605696e-32j, -1.25000000e-01+8.44572528e-17j,\n",
       "        0.00000000e+00+0.00000000e+00j, -1.25000000e-01+0.00000000e+00j,\n",
       "       -1.25000000e-01+1.23709564e-16j,  2.75266247e-32-1.94235454e-32j,\n",
       "        0.00000000e+00+0.00000000e+00j, -1.25000000e-01+0.00000000e+00j,\n",
       "        1.54946646e-32+1.32605696e-32j, -1.25000000e-01+8.44572528e-17j,\n",
       "        4.31009743e-33+0.00000000e+00j, -1.25000000e-01+0.00000000e+00j,\n",
       "        3.75000000e-01+1.23709564e-16j,  5.00000000e-01-1.94235454e-32j])"
      ]
     },
     "execution_count": 7,
     "metadata": {},
     "output_type": "execute_result"
    }
   ],
   "source": [
    "vec = Grover_search(N = 3, n_list = [7,6])\n",
    "vec_a = out_vec(N = 3, k = 1, sol_vec = [7,6])\n",
    "(vec_a - np.array(vec)**2)"
   ]
  },
  {
   "cell_type": "code",
   "execution_count": null,
   "metadata": {},
   "outputs": [],
   "source": []
  }
 ],
 "metadata": {
  "kernelspec": {
   "display_name": "Python 3",
   "language": "python",
   "name": "python3"
  },
  "language_info": {
   "codemirror_mode": {
    "name": "ipython",
    "version": 3
   },
   "file_extension": ".py",
   "mimetype": "text/x-python",
   "name": "python",
   "nbconvert_exporter": "python",
   "pygments_lexer": "ipython3",
   "version": "3.7.11"
  }
 },
 "nbformat": 4,
 "nbformat_minor": 4
}
