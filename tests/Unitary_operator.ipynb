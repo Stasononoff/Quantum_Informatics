{
 "cells": [
  {
   "cell_type": "code",
   "execution_count": 1,
   "metadata": {},
   "outputs": [],
   "source": [
    "import numpy as np\n",
    "import copy\n",
    "import itertools\n",
    "from scipy import linalg as sLA\n",
    "from numpy import linalg as LA\n",
    "import time\n",
    "from numba import njit\n",
    "from numba import jit\n",
    "\n",
    "\n",
    "import sys\n",
    "sys.path.append(\"../scripts\")\n",
    "\n",
    "from Gates import *"
   ]
  },
  {
   "cell_type": "code",
   "execution_count": 2,
   "metadata": {},
   "outputs": [],
   "source": [
    "class Qpsi():\n",
    "    def __init__(self, N = 2):\n",
    "        self.N = N\n",
    "        self.coefs = None\n",
    "    def build_random_vec(self):\n",
    "        self.coefs = np.random.rand(2**self.N) + 1j*np.random.rand(2**self.N)\n",
    "        \n",
    "    def set_coefs(self, coefs):\n",
    "        if len(coefs) == 2**self.N:\n",
    "            self.coefs = np.arryay(coefs)\n",
    "            \n",
    "    def get_coefs(self):\n",
    "        return self.coefs\n",
    "    \n",
    "    def apply_U(self, U, axis):\n",
    "        self.coefs = U_operate(U, self.coefs, axis)"
   ]
  },
  {
   "cell_type": "code",
   "execution_count": 3,
   "metadata": {},
   "outputs": [
    {
     "data": {
      "text/plain": [
       "array([0.41163601+0.67243594j, 0.5248579 +0.1001748j ,\n",
       "       0.97442621+0.73694716j, 0.95292009+0.06349662j,\n",
       "       0.58789914+0.20318055j, 0.54410173+0.20528513j,\n",
       "       0.75719711+0.48504896j, 0.01622061+0.17764638j])"
      ]
     },
     "execution_count": 3,
     "metadata": {},
     "output_type": "execute_result"
    }
   ],
   "source": [
    "psi = Qpsi(N = 3)\n",
    "psi.build_random_vec()\n",
    "coefs = psi.get_coefs()\n",
    "coefs"
   ]
  },
  {
   "cell_type": "code",
   "execution_count": 4,
   "metadata": {},
   "outputs": [
    {
     "name": "stdout",
     "output_type": "stream",
     "text": [
      "[(1,), (2,), (3,), (4,), (1, 2), (1, 3), (1, 4), (2, 3), (2, 4), (3, 4), (1, 2, 3), (1, 2, 4), (1, 3, 4), (2, 3, 4), (1, 2, 3, 4)]\n"
     ]
    }
   ],
   "source": [
    "val = [1, 2, 3, 4]\n",
    "\n",
    "def get_combinations(val):\n",
    "    comb_list = []\n",
    "    for j in range(1,len(val)+1):\n",
    "        com_set = itertools.combinations(val, j)\n",
    "        for i in com_set: \n",
    "            comb_list.append(i)\n",
    "    return comb_list\n",
    "        \n",
    "print((get_combinations(val)))"
   ]
  },
  {
   "cell_type": "code",
   "execution_count": 5,
   "metadata": {},
   "outputs": [
    {
     "data": {
      "text/plain": [
       "('0b111', '0b111', '0b101', '0b101', '0b111', '0b10')"
      ]
     },
     "execution_count": 5,
     "metadata": {},
     "output_type": "execute_result"
    }
   ],
   "source": [
    "i = 5\n",
    "K = 7\n",
    "ax = 1\n",
    "\n",
    "bin(i&K^(1<<ax)), bin(i^(1<<ax)), bin(i&(K^(1<<ax))), bin(i), bin(K), bin(1<<ax)"
   ]
  },
  {
   "cell_type": "code",
   "execution_count": 6,
   "metadata": {},
   "outputs": [],
   "source": [
    "\n",
    "def U_operate(U, coefs, axis):\n",
    "    if ((len(U) != 2**len(axis)) | (len(coefs) < len(U)) | (max(axis) > len(U))):\n",
    "        print('Некорректно задано преобразование')\n",
    "        return 0\n",
    "    a = coefs\n",
    "    b = [0]*len(a)\n",
    "    \n",
    "    ax = axis[0]\n",
    "    \n",
    "    N = len(U)  # размерность преобразования \n",
    "    K = len(coefs) # размерность состояния системы\n",
    "    \n",
    "    axis_comb = get_combinations(axis)\n",
    "    old_ind_set = {K+1}\n",
    "    \n",
    "    \n",
    "    for i in range(K):\n",
    "        \n",
    "        zero_index = (K-1)\n",
    "            \n",
    "        for ax in axis:\n",
    "            zero_index = zero_index^(1<<ax)\n",
    "            \n",
    "        zero_index = i&zero_index\n",
    "        \n",
    "        if zero_index in old_ind_set:\n",
    "            continue\n",
    "            \n",
    "        old_ind_set.add(zero_index)\n",
    "\n",
    "                \n",
    "        index = zero_index\n",
    "        \n",
    "        b[index] += a[zero_index]*U[0][0]\n",
    "        \n",
    "        \n",
    "        u1 = 0\n",
    "        for ax_list in axis_comb:\n",
    "            u1 += 1\n",
    "            m = 0\n",
    "            for ax in ax_list:\n",
    "                m += 1<<ax\n",
    "\n",
    "            b[index] += a[zero_index^m]*U[0][u1]\n",
    "            \n",
    "\n",
    "        u0 = 0\n",
    "        for ax_list in axis_comb:\n",
    "            u0 += 1\n",
    "            r = 0\n",
    "            for ax in ax_list:\n",
    "                r += 1<<ax\n",
    "            \n",
    "            index = zero_index^r\n",
    "            old_ind_set.add(index)\n",
    "            \n",
    "            b[index] += a[zero_index]*U[u0][0]\n",
    "            \n",
    "            \n",
    "            \n",
    "            u1 = 0\n",
    "            for ax1_list in axis_comb:\n",
    "                u1 += 1\n",
    "                m = 0\n",
    "                for ax1 in ax1_list:\n",
    "                    m += 1<<ax1\n",
    "                b[index] += a[zero_index^m]*U[u0][u1]\n",
    "            \n",
    "        \n",
    "    return b\n",
    "        \n"
   ]
  },
  {
   "cell_type": "code",
   "execution_count": 7,
   "metadata": {},
   "outputs": [
    {
     "name": "stdout",
     "output_type": "stream",
     "text": [
      "custom function--- 8.96453857421875e-05 seconds ---\n",
      "[0, 1]\n"
     ]
    }
   ],
   "source": [
    "U = [[0,1],\n",
    "     [1,0]]\n",
    "coefs = [1,0]\n",
    "axis = [0]\n",
    "\n",
    "start_time = time.time()\n",
    "res0 = U_operate(U, coefs, axis)\n",
    "print(\"custom function--- %s seconds ---\" % (time.time() - start_time))\n",
    "print(res0)"
   ]
  },
  {
   "cell_type": "code",
   "execution_count": 9,
   "metadata": {},
   "outputs": [
    {
     "name": "stdout",
     "output_type": "stream",
     "text": [
      "custom function--- 9.679794311523438e-05 seconds ---\n",
      "[0, 0, 1, 1]\n"
     ]
    }
   ],
   "source": [
    "U = [[0,0,0,1],\n",
    "     [0,0,1,0],\n",
    "     [0,1,0,0],\n",
    "     [1,0,0,0]]\n",
    "coefs = [1,1,0,0]\n",
    "axis = [0,1]\n",
    "\n",
    "start_time = time.time()\n",
    "res0 = U_operate(U, coefs, axis)\n",
    "print(\"custom function--- %s seconds ---\" % (time.time() - start_time))\n",
    "print(res0)"
   ]
  },
  {
   "cell_type": "code",
   "execution_count": 10,
   "metadata": {},
   "outputs": [
    {
     "name": "stdout",
     "output_type": "stream",
     "text": [
      "(8, 8)\n",
      "custom function--- 0.00016641616821289062 seconds ---\n",
      "np.mult--- 0.007649898529052734 seconds ---\n",
      "[0j, (1+0j), (3+0j), (2+0j), (4+0j), 0j, 0j, 0j] [0.+0.j 1.+0.j 3.+0.j 2.+0.j 4.+0.j 0.+0.j 0.+0.j 0.+0.j]\n"
     ]
    }
   ],
   "source": [
    "a = 0\n",
    "U = X()\n",
    "U1 = X(a,3)\n",
    "coefs = [1,0,2,3,0,4,0,0]\n",
    "axis = [a]\n",
    "\n",
    "print(U1.shape)\n",
    "\n",
    "start_time = time.time()\n",
    "res0 = U_operate(U, coefs, axis)\n",
    "print(\"custom function--- %s seconds ---\" % (time.time() - start_time))\n",
    "\n",
    "start_time = time.time()\n",
    "res1 = np.dot(coefs,U1)\n",
    "print(\"np.mult--- %s seconds ---\" % (time.time() - start_time))\n",
    "\n",
    "print(res0, res1) "
   ]
  },
  {
   "cell_type": "code",
   "execution_count": 11,
   "metadata": {},
   "outputs": [
    {
     "name": "stdout",
     "output_type": "stream",
     "text": [
      "(8, 8)\n",
      "custom function--- 0.00022554397583007812 seconds ---\n",
      "np.mult--- 0.00023293495178222656 seconds ---\n",
      "[(1+0j), 0j, (2+0j), (3+0j), 0j, 0j, 0j, (4+0j)] [1.+0.j 0.+0.j 2.+0.j 3.+0.j 0.+0.j 0.+0.j 0.+0.j 4.+0.j] [1.+0.j 0.+0.j 2.+0.j 3.+0.j 0.+0.j 0.+0.j 0.+0.j 4.+0.j]\n"
     ]
    }
   ],
   "source": [
    "axis = [1,2]\n",
    "U = CX()\n",
    "U1 = CX(axis,3)\n",
    "coefs = [1,0,2,3,0,4,0,0]\n",
    "\n",
    "print(U1.shape)\n",
    "\n",
    "start_time = time.time()\n",
    "res0 = U_operate(U, coefs, axis)\n",
    "print(\"custom function--- %s seconds ---\" % (time.time() - start_time))\n",
    "\n",
    "start_time = time.time()\n",
    "res1 = np.dot(coefs,U1)\n",
    "print(\"np.mult--- %s seconds ---\" % (time.time() - start_time))\n",
    "\n",
    "res2 = np.dot(U1,coefs)\n",
    "\n",
    "print(res0, res1, res2) "
   ]
  },
  {
   "cell_type": "code",
   "execution_count": 12,
   "metadata": {},
   "outputs": [
    {
     "name": "stdout",
     "output_type": "stream",
     "text": [
      "(8, 8)\n",
      "custom function--- 0.00030541419982910156 seconds ---\n",
      "np.mult--- 0.00023436546325683594 seconds ---\n",
      "[(1+0j), 0j, (2+0j), (3+0j), 0j, (4+0j), 0j, 0j] [1.+0.j 0.+0.j 2.+0.j 3.+0.j 0.+0.j 4.+0.j 0.+0.j 0.+0.j]\n"
     ]
    }
   ],
   "source": [
    "axis = [0,1,2]\n",
    "U = TOFFOLI()\n",
    "U1 = TOFFOLI(axis,3)\n",
    "coefs = [1,0,2,3,0,4,0,0]\n",
    "\n",
    "print(U1.shape)\n",
    "\n",
    "start_time = time.time()\n",
    "res0 = U_operate(U, coefs, axis)\n",
    "print(\"custom function--- %s seconds ---\" % (time.time() - start_time))\n",
    "\n",
    "start_time = time.time()\n",
    "res1 = np.dot(coefs,U1)\n",
    "print(\"np.mult--- %s seconds ---\" % (time.time() - start_time))\n",
    "\n",
    "print(res0, res1) "
   ]
  },
  {
   "cell_type": "code",
   "execution_count": 25,
   "metadata": {},
   "outputs": [
    {
     "name": "stdout",
     "output_type": "stream",
     "text": [
      "custom function--- 14.850182056427002 seconds ---\n"
     ]
    }
   ],
   "source": [
    "N = 21\n",
    "\n",
    "a = 0\n",
    "U = X()\n",
    "# U1 = X(a,N)\n",
    "# coefs = [1,0,2,3,0,4,0,0]\n",
    "coefs = np.random.rand(2**N)\n",
    "axis = [a]\n",
    "\n",
    "# print(U1.shape)\n",
    "\n",
    "start_time = time.time()\n",
    "res0 = U_operate(U, coefs, axis)\n",
    "print(\"custom function--- %s seconds ---\" % (time.time() - start_time))\n",
    "\n",
    "# start_time = time.time()\n",
    "# res1 = np.dot(coefs,U1)\n",
    "# print(\"np.mult--- %s seconds ---\" % (time.time() - start_time))\n",
    "\n",
    "# print(sum(res0 - res1) )"
   ]
  },
  {
   "cell_type": "code",
   "execution_count": null,
   "metadata": {},
   "outputs": [],
   "source": []
  },
  {
   "cell_type": "code",
   "execution_count": null,
   "metadata": {},
   "outputs": [],
   "source": []
  }
 ],
 "metadata": {
  "kernelspec": {
   "display_name": "Python 3",
   "language": "python",
   "name": "python3"
  },
  "language_info": {
   "codemirror_mode": {
    "name": "ipython",
    "version": 3
   },
   "file_extension": ".py",
   "mimetype": "text/x-python",
   "name": "python",
   "nbconvert_exporter": "python",
   "pygments_lexer": "ipython3",
   "version": "3.7.11"
  }
 },
 "nbformat": 4,
 "nbformat_minor": 4
}
