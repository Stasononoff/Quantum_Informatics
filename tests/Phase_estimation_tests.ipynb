{
 "cells": [
  {
   "cell_type": "code",
   "execution_count": 258,
   "id": "af4c9c58",
   "metadata": {},
   "outputs": [
    {
     "name": "stdout",
     "output_type": "stream",
     "text": [
      "The autoreload extension is already loaded. To reload it, use:\n",
      "  %reload_ext autoreload\n"
     ]
    }
   ],
   "source": [
    "%load_ext autoreload\n",
    "%autoreload 2"
   ]
  },
  {
   "cell_type": "code",
   "execution_count": 259,
   "id": "bc47e807",
   "metadata": {},
   "outputs": [],
   "source": [
    "import numpy as np\n",
    "import copy\n",
    "import itertools\n",
    "from scipy import linalg as sLA\n",
    "from numpy import linalg as LA\n",
    "import time\n",
    "from numba import njit\n",
    "from numba import jit\n",
    "from copy import deepcopy\n",
    "from scipy.stats import unitary_group\n",
    "\n",
    "\n",
    "\n",
    "import sys\n",
    "sys.path.append(\"../scripts\")\n",
    "\n",
    "\n",
    "\n",
    "from Gates import *\n",
    "from functions import *\n",
    "from state import *"
   ]
  },
  {
   "cell_type": "code",
   "execution_count": 261,
   "id": "67cae94c",
   "metadata": {},
   "outputs": [
    {
     "data": {
      "text/plain": [
       "(array([[1.        +0.j        , 0.        +0.j        ,\n",
       "         0.        +0.j        , 0.        +0.j        ],\n",
       "        [0.        +0.j        , 1.        +0.j        ,\n",
       "         0.        +0.j        , 0.        +0.j        ],\n",
       "        [0.        +0.j        , 0.        +0.j        ,\n",
       "         1.        +0.j        , 0.        +0.j        ],\n",
       "        [0.        +0.j        , 0.        +0.j        ,\n",
       "         0.        +0.j        , 0.70710678+0.70710678j]]),\n",
       " (0.7071067811865476+0.7071067811865475j))"
      ]
     },
     "execution_count": 261,
     "metadata": {},
     "output_type": "execute_result"
    }
   ],
   "source": [
    "CR(k = 3), np.exp(1j*2*np.pi/(2**3))"
   ]
  },
  {
   "cell_type": "code",
   "execution_count": 419,
   "id": "9ba36f54",
   "metadata": {},
   "outputs": [],
   "source": [
    "# Фурье преобразование\n",
    "\n",
    "def Fourier_transfer(state0, axis, noisy = False, e = 10e-6, inv = False):\n",
    "    \n",
    "\n",
    "    state = copy.deepcopy(state0)\n",
    "    n = len(axis)\n",
    "    if inv == False:\n",
    "        print()\n",
    "        print('Fourier')\n",
    "        print('______________')\n",
    "        for i in range(n):\n",
    "            state.apply_U(H(), axis = [axis[i]])\n",
    "            print('H',[axis[i]])\n",
    "            if noisy == True:\n",
    "                eps = np.random.normal(0, e)\n",
    "                state.apply_U(R_matrix(eps*np.pi, np.pi/2, eps), axis = [axis[i]])\n",
    "            k = 2\n",
    "            for j in range(i+1, n):\n",
    "                state.apply_U(CR(k = k), axis = [axis[j],axis[i]])\n",
    "                print('CR',[axis[j],axis[i]])\n",
    "                k +=1\n",
    "        for i in range(int(n/2)):\n",
    "            state.apply_U(SWAP(), axis = [axis[i],axis[n-i-1]])\n",
    "            print('SWAP',[axis[i],axis[n-i-1]])\n",
    "            \n",
    "            \n",
    "    elif inv == True:\n",
    "        print()\n",
    "        print('Fourier_inv')\n",
    "        print('______________')\n",
    "        \n",
    "        for i in reversed(range(int(n/2))):\n",
    "            state.apply_U(SWAP(), axis = [axis[i],axis[n-i-1]])\n",
    "            print('SWAP',[axis[i],axis[n-i-1]])\n",
    "        for i in reversed(range(n)):\n",
    "            k = n - i\n",
    "            for j in reversed(range(i+1, n)):\n",
    "                state.apply_U(CR(k = k), axis = [axis[j],axis[i]])\n",
    "                print('CR',[axis[j],axis[i]])\n",
    "                k -=1\n",
    "                \n",
    "            if noisy == True:\n",
    "                eps = np.random.normal(0, e)\n",
    "                state.apply_U(R_matrix(eps*np.pi, np.pi/2, eps), [axis[i]])\n",
    "                \n",
    "            state.apply_U(H(), axis = [axis[i]])\n",
    "            print('H',[axis[i]])\n",
    "            \n",
    "        \n",
    "        #debug part:\n",
    "        \n",
    "        coefs = np.array(state.get_coefs())\n",
    "        coefs[1:] = np.flip(coefs[1:])\n",
    "        state.set_coefs(coefs)\n",
    "            \n",
    "        \n",
    "    return state\n"
   ]
  },
  {
   "cell_type": "code",
   "execution_count": 420,
   "id": "9c7fa1ed",
   "metadata": {},
   "outputs": [],
   "source": [
    "class Unitary(object):\n",
    "    \n",
    "    def __init__(self, n):\n",
    "        self.n = n\n",
    "        self.U = None\n",
    "        self.eigvec = None\n",
    "        self.eigval = None\n",
    "        self.phi = None\n",
    "        \n",
    "    def build_matrix(self, U = None, random = False):\n",
    "        if random == True:\n",
    "            self.U = unitary_group.rvs(2**self.n)\n",
    "        elif random == False:\n",
    "            self.U = np.array(U)\n",
    "            \n",
    "        s, v = LA.eig(self.U)\n",
    "        self.eigval = s[0] \n",
    "        self.eigvec = v[:, 0]\n",
    "        \n",
    "        self.phi = np.log(self.eigval)/(2*np.pi*1j)\n",
    "            \n",
    "    def get_U(self, power = 0):\n",
    "        if power == 0:\n",
    "            return self.U\n",
    "        return LA.matrix_power(self.U, power)\n",
    "    \n",
    "    \n",
    "    def get_vec(self):\n",
    "        return self.eigvec\n",
    "    \n",
    "    def get_val(self):\n",
    "        return self.eigval\n",
    "    \n",
    "    def get_phi(self):\n",
    "        return self.phi\n",
    "    \n",
    "    \n",
    "\n"
   ]
  },
  {
   "cell_type": "code",
   "execution_count": 421,
   "id": "bfdf02c2",
   "metadata": {},
   "outputs": [
    {
     "name": "stdout",
     "output_type": "stream",
     "text": [
      "\n",
      "Fourier\n",
      "______________\n",
      "H [0]\n",
      "CR [1, 0]\n",
      "CR [2, 0]\n",
      "CR [3, 0]\n",
      "CR [4, 0]\n",
      "H [1]\n",
      "CR [2, 1]\n",
      "CR [3, 1]\n",
      "CR [4, 1]\n",
      "H [2]\n",
      "CR [3, 2]\n",
      "CR [4, 2]\n",
      "H [3]\n",
      "CR [4, 3]\n",
      "H [4]\n",
      "SWAP [0, 4]\n",
      "SWAP [1, 3]\n",
      "1.6363427267671902e-15\n",
      "\n",
      "Fourier_inv\n",
      "______________\n",
      "SWAP [1, 3]\n",
      "SWAP [0, 4]\n",
      "H [4]\n",
      "CR [4, 3]\n",
      "H [3]\n",
      "CR [4, 2]\n",
      "CR [3, 2]\n",
      "H [2]\n",
      "CR [4, 1]\n",
      "CR [3, 1]\n",
      "CR [2, 1]\n",
      "H [1]\n",
      "CR [4, 0]\n",
      "CR [3, 0]\n",
      "CR [2, 0]\n",
      "CR [1, 0]\n",
      "H [0]\n",
      "4.497314216466734e-15\n",
      "1.3414280105396737e-15\n"
     ]
    }
   ],
   "source": [
    "state = Qpsi(5)\n",
    "# state.build_zero_state()\n",
    "state.build_random_state()\n",
    "coefs = state.get_coefs()\n",
    "\n",
    "state = Fourier_transfer(state, axis = [0,1,2,3,4], noisy = False, e = 10e-6, inv = False)\n",
    "inv_coefs = np.fft.ifft(coefs, norm='ortho')\n",
    "print(sum(abs(state.get_coefs() - inv_coefs)))\n",
    "\n",
    "state = Fourier_transfer(state, axis = [0,1,2,3,4], noisy = False, e = 10e-6, inv = True)\n",
    "ret_coefs = np.fft.fft(inv_coefs, norm='ortho')\n",
    "print(sum(abs(state.get_coefs() - ret_coefs)))\n",
    "print(sum(abs(ret_coefs - coefs)))"
   ]
  },
  {
   "cell_type": "code",
   "execution_count": 422,
   "id": "cb2e3069",
   "metadata": {},
   "outputs": [
    {
     "name": "stdout",
     "output_type": "stream",
     "text": [
      "\n",
      "Fourier\n",
      "______________\n",
      "H [0]\n",
      "CR [1, 0]\n",
      "CR [2, 0]\n",
      "CR [3, 0]\n",
      "H [1]\n",
      "CR [2, 1]\n",
      "CR [3, 1]\n",
      "H [2]\n",
      "CR [3, 2]\n",
      "H [3]\n",
      "SWAP [0, 3]\n",
      "SWAP [1, 2]\n",
      "4.058698279396103\n",
      "\n",
      "Fourier_inv\n",
      "______________\n",
      "SWAP [1, 2]\n",
      "SWAP [0, 3]\n",
      "H [3]\n",
      "CR [3, 2]\n",
      "H [2]\n",
      "CR [3, 1]\n",
      "CR [2, 1]\n",
      "H [1]\n",
      "CR [3, 0]\n",
      "CR [2, 0]\n",
      "CR [1, 0]\n",
      "H [0]\n",
      "5.049010329060878e-16\n",
      "5.049010329060878e-16\n"
     ]
    }
   ],
   "source": [
    "state = Qpsi(5)\n",
    "# state.build_zero_state()\n",
    "state.build_random_state()\n",
    "state.split_system(4,1)\n",
    "coefs = state.get_A_coefs()\n",
    "\n",
    "\n",
    "state = Fourier_transfer(state, axis = [0,1,2,3], noisy = False, e = 10e-6, inv = False)\n",
    "inv_coefs = np.fft.ifft(coefs, norm='ortho')\n",
    "print(sum(abs(state.get_A_coefs() - inv_coefs)))\n",
    "\n",
    "state = Fourier_transfer(state, axis = [0,1,2,3], noisy = False, e = 10e-6, inv = True)\n",
    "ret_coefs = np.fft.fft(inv_coefs, norm='ortho')\n",
    "print(sum(abs(state.get_A_coefs() - ret_coefs)))\n",
    "print(sum(abs(ret_coefs - coefs)))"
   ]
  },
  {
   "cell_type": "code",
   "execution_count": 423,
   "id": "13d9242a",
   "metadata": {},
   "outputs": [
    {
     "data": {
      "text/plain": [
       "(array([0.30009695-0.09388795j, 0.34109974-0.03658207j,\n",
       "        0.25029335-0.02170864j, 0.11392944+0.002263j  ,\n",
       "        0.27329039+0.00168291j, 0.1820403 +0.0083251j ,\n",
       "        0.20911522-0.00123973j, 0.43675257+0.j        ,\n",
       "        0.16568067-0.01585968j, 0.16721811-0.07582353j,\n",
       "        0.19033433+0.05629674j, 0.18208899-0.0101865j ,\n",
       "        0.13120545-0.07047662j, 0.37223351-0.04698336j,\n",
       "        0.20749881-0.08521749j, 0.12425068+0.04671345j]),\n",
       " array([ 0.91178212-0.08567109j, -0.01045521+0.00087809j,\n",
       "         0.04647366-0.06258042j,  0.00703481+0.13967093j,\n",
       "         0.05072139+0.01972444j,  0.05596264+0.15269817j,\n",
       "         0.02955793-0.06783071j,  0.06842019-0.12343987j,\n",
       "        -0.04802454-0.02953414j,  0.06009926-0.00434924j,\n",
       "        -0.07635543+0.05411029j,  0.07351431-0.17068764j,\n",
       "        -0.04420552-0.08306055j, -0.04334994-0.08517036j,\n",
       "         0.06160563+0.03534692j,  0.0576065 -0.06565663j]))"
      ]
     },
     "execution_count": 423,
     "metadata": {},
     "output_type": "execute_result"
    }
   ],
   "source": [
    "state.get_A_coefs(),inv_coefs"
   ]
  },
  {
   "cell_type": "code",
   "execution_count": 424,
   "id": "ea4b64ad",
   "metadata": {},
   "outputs": [
    {
     "data": {
      "text/plain": [
       "(array([[ 0.4577571 -0.57325221j, -0.63064903+0.25322351j],\n",
       "        [ 0.54948909+0.39987759j,  0.30352638+0.66785582j]]),\n",
       " array([ 0.91572884+0.j        , -0.19455334+0.35155325j]),\n",
       " (0.49452925590907104-0.8691609833914662j),\n",
       " (0.49452925590907093-0.8691609833914662j),\n",
       " (-0.16767023963832475-3.4563442291823773e-18j))"
      ]
     },
     "execution_count": 424,
     "metadata": {},
     "output_type": "execute_result"
    }
   ],
   "source": [
    "# проверка работы\n",
    "\n",
    "U = Unitary(1)\n",
    "U.build_matrix(random = True)\n",
    "# U.build_matrix(U = np.array([[1,0], [0,1]]), random = False)\n",
    "\n",
    "U.get_U(), U.get_vec(), U.get_val(), np.exp(2*np.pi*1j*U.get_phi()), U.get_phi()"
   ]
  },
  {
   "cell_type": "code",
   "execution_count": 425,
   "id": "8749e047",
   "metadata": {},
   "outputs": [
    {
     "data": {
      "text/plain": [
       "(array([0.4528547 -0.79591578j, 0.20934405+0.34295154j]),\n",
       " array([0.4528547 -0.79591578j, 0.20934405+0.34295154j]))"
      ]
     },
     "execution_count": 425,
     "metadata": {},
     "output_type": "execute_result"
    }
   ],
   "source": [
    "np.dot(U.get_U(), U.get_vec()), U.get_vec()*U.get_val()"
   ]
  },
  {
   "cell_type": "code",
   "execution_count": 426,
   "id": "2cd23cee",
   "metadata": {},
   "outputs": [
    {
     "name": "stdout",
     "output_type": "stream",
     "text": [
      "[ 0.91572884+0.j         -0.19455334+0.35155325j] (1.0000000000000002+0j)\n",
      "\n",
      "Fourier\n",
      "______________\n",
      "H [0]\n",
      "\n",
      "Fourier_inv\n",
      "______________\n",
      "H [0]\n",
      "[-0.51088163-0.85965107j -0.51088163-0.85965107j]\n",
      "(-0.5108816301000412-0.8596510687635565j)\n"
     ]
    }
   ],
   "source": [
    "state = Qpsi(1)\n",
    "state.build_zero_state()\n",
    "state.set_coefs(list(U.get_vec()))\n",
    "print( state.get_coefs(), np.sum(state.get_coefs()*state.get_coefs().conj()) )\n",
    "# state.apply_U(U.get_U(), axis = [0])\n",
    "# state.apply_U(U.get_U(), axis = [0])\n",
    "state.apply_U(LA.matrix_power(U.get_U(), n = 2), axis = [0])\n",
    "\n",
    "Fourier_transfer(state, axis = [0], noisy = False, e = 10e-6, inv = False)\n",
    "Fourier_transfer(state, axis = [0], noisy = False, e = 10e-6, inv = True)\n",
    "print(state.get_coefs()/U.get_vec())\n",
    "print((U.get_val())**2)"
   ]
  },
  {
   "cell_type": "code",
   "execution_count": 427,
   "id": "6b4006d6",
   "metadata": {},
   "outputs": [
    {
     "data": {
      "text/plain": [
       "(array([0.70710678+0.00000000e+00j, 0.70710678+6.16297582e-33j]),\n",
       " array([ 0.7654762 +0.j        , -0.56730288-0.30366697j]),\n",
       " array([ 0.7654762 +0.j        , -0.56730288-0.30366697j]),\n",
       " array([[ 1.        +0.j        ,  0.        -0.j        ,\n",
       "          0.        +0.j        ,  0.        -0.j        ],\n",
       "        [ 0.        +0.j        ,  1.        +0.j        ,\n",
       "          0.        +0.j        ,  0.        +0.j        ],\n",
       "        [ 0.        +0.j        ,  0.        -0.j        ,\n",
       "          0.8266317 +0.34933845j, -0.07791167-0.43424929j],\n",
       "        [ 0.        +0.j        ,  0.        +0.j        ,\n",
       "          0.31814628-0.30565605j,  0.87418208+0.20288669j]]))"
      ]
     },
     "execution_count": 427,
     "metadata": {},
     "output_type": "execute_result"
    }
   ],
   "source": [
    "# Зададим количество кубитов\n",
    "\n",
    "na = 1\n",
    "nb = 1\n",
    "state_zero = Qpsi(na)\n",
    "state_zero.build_zero_state()\n",
    "state_zero.apply_U(H(), axis = [0])\n",
    "\n",
    "U = Unitary(nb)\n",
    "U.build_matrix(random = True)\n",
    "# U.build_matrix(U = [[1,0], [0,1]], random = False)\n",
    "\n",
    "u_vec = U.get_vec()\n",
    "coefs = np.kron(state_zero.get_coefs() , u_vec)\n",
    "\n",
    "state = Qpsi(na+nb)\n",
    "state.set_coefs(coefs)\n",
    "state.split_system(na, nb)\n",
    "\n",
    "CU = build_CU(U.get_U())\n",
    "state.get_A_coefs(), state.get_B_coefs(), u_vec, CU"
   ]
  },
  {
   "cell_type": "code",
   "execution_count": 428,
   "id": "e38c6432",
   "metadata": {},
   "outputs": [
    {
     "name": "stdout",
     "output_type": "stream",
     "text": [
      "[1.+0.00000000e+00j 1.-7.60582676e-17j]\n",
      "[ 0.54127341+0.j         -0.40114372-0.21472498j  0.54127341+0.j\n",
      " -0.40114372-0.21472498j]\n",
      "__\n",
      "A\n",
      "[1.        +0.j         0.01418636+0.99989937j]\n",
      "\n",
      "(0.014186358923138742+0.9998993685469071j)\n",
      "[ 0.54127341+0.j         -0.40114372-0.21472498j  0.54127341+0.j\n",
      " -0.40114372-0.21472498j]\n",
      "[ 0.54127341+0.j         -0.40114372-0.21472498j  0.0076787 +0.54121894j\n",
      "  0.2090126 -0.40414951j]\n",
      "B\n",
      "[ 0.7654762 +0.j         -0.56730288-0.30366697j]\n",
      "[ 0.7654762 +0.j         -0.56730288-0.30366697j]\n",
      "A\n",
      "[0.70710678+0.j         0.01003127+0.70703562j]\n",
      "[0.70710678+0.00000000e+00j 0.70710678+6.16297582e-33j]\n"
     ]
    }
   ],
   "source": [
    "state.split_system(1, 1)\n",
    "init = state.get_coefs()\n",
    "init_A = state.get_A_coefs()\n",
    "init_B = state.get_B_coefs()\n",
    "print(init_B/U.get_vec())\n",
    "print(state.get_coefs())\n",
    "print('__')\n",
    "state.apply_U(CU, axis = [0,1])\n",
    "state.apply_U(CU, axis = [0,1])\n",
    "# state.apply_U(U.get_U(), axis = [1])\n",
    "\n",
    "# Fourier_transfer(state, n = 3, noisy = False, e = 10e-6, inv = False)\n",
    "# Fourier_transfer(state, n = 3, noisy = False, e = 10e-6, inv = True)\n",
    "state.split_system(1, 1)\n",
    "\n",
    "\n",
    "\n",
    "print(\"A\")\n",
    "print(state.get_A_coefs()/init_A)\n",
    "print()\n",
    "print((U.get_val()**2))\n",
    "\n",
    "print(init)\n",
    "print(state.get_coefs())\n",
    "\n",
    "print(\"B\")\n",
    "print(state.get_B_coefs())\n",
    "print(init_B)\n",
    "\n",
    "print(\"A\")\n",
    "print(state.get_A_coefs())\n",
    "print(init_A)\n",
    "\n",
    "A_coefs = state.get_A_coefs()\n"
   ]
  },
  {
   "cell_type": "code",
   "execution_count": 429,
   "id": "4352f3e9",
   "metadata": {},
   "outputs": [
    {
     "data": {
      "text/plain": [
       "(array([0.70710678+0.j        , 0.01003127+0.70703562j]),\n",
       " array([0.70710678+0.j        , 0.01003127+0.70703562j]))"
      ]
     },
     "execution_count": 429,
     "metadata": {},
     "output_type": "execute_result"
    }
   ],
   "source": [
    "state_A = Qpsi(na)\n",
    "state_A.set_coefs(A_coefs)\n",
    "A_coefs, state_A.get_coefs()"
   ]
  },
  {
   "cell_type": "code",
   "execution_count": 430,
   "id": "556da931",
   "metadata": {},
   "outputs": [],
   "source": [
    "state_A.apply_U(H(), axis = [0])"
   ]
  },
  {
   "cell_type": "code",
   "execution_count": 431,
   "id": "e778f553",
   "metadata": {},
   "outputs": [
    {
     "data": {
      "text/plain": [
       "array([0.50709318+0.49994968j, 0.49290682-0.49994968j])"
      ]
     },
     "execution_count": 431,
     "metadata": {},
     "output_type": "execute_result"
    }
   ],
   "source": [
    "state_A.get_coefs()"
   ]
  },
  {
   "cell_type": "code",
   "execution_count": 432,
   "id": "95eecd8d",
   "metadata": {},
   "outputs": [
    {
     "data": {
      "text/plain": [
       "(0.964685059187411+0.26340602988652795j)"
      ]
     },
     "execution_count": 432,
     "metadata": {},
     "output_type": "execute_result"
    }
   ],
   "source": [
    "(0.964685059187411+0.26340602988652795j)"
   ]
  },
  {
   "cell_type": "code",
   "execution_count": 486,
   "id": "087f5443",
   "metadata": {},
   "outputs": [
    {
     "name": "stdout",
     "output_type": "stream",
     "text": [
      "(0.10569048514075366-4.513116099613875e-18j)\n"
     ]
    }
   ],
   "source": [
    "# Зададим количество кубитов\n",
    "np.random.seed(10)\n",
    "na = 2\n",
    "nb = 1\n",
    "state_zero = Qpsi(na)\n",
    "state_zero.build_zero_state()\n",
    "\n",
    "U = Unitary(nb)\n",
    "U.build_matrix(random = True)\n",
    "# U.build_matrix(U = [[1,0], [0,1]], random = False)\n",
    "print(U.get_phi())\n",
    "\n",
    "s, v = LA.eig(U.get_U())\n",
    "\n",
    "u_vec = U.get_vec()\n",
    "coefs = np.kron(state_zero.get_coefs() ,u_vec)\n",
    "\n",
    "state = Qpsi(na+nb)\n",
    "state.set_coefs(coefs)\n",
    "state.split_system(na, nb)"
   ]
  },
  {
   "cell_type": "code",
   "execution_count": 487,
   "id": "4dca2a3e",
   "metadata": {},
   "outputs": [],
   "source": [
    "def Phase_estimation(state0, U, u_vec, axis_u, axis_s):\n",
    "    \n",
    "    state = deepcopy(state0)\n",
    "#     print(state.get_coefs())\n",
    "    for ax in axis_s:\n",
    "        print(ax, 'H')\n",
    "        state.apply_U(H(), axis = [ax])\n",
    "        \n",
    "#     print(state.get_coefs())\n",
    "    t = len(axis_s)\n",
    "    for i in range(t):\n",
    "        \n",
    "        # хитрость\n",
    "        U_pow = LA.matrix_power(U, n = 2**i)\n",
    "        CU_pow = build_CU(U_pow)\n",
    "        axis_cu = (list(set([i])|set(axis_u)))\n",
    "        print(axis_cu, 'CU**', i)\n",
    "        state.apply_U(CU_pow, axis = axis_cu)\n",
    "\n",
    "    \n",
    "    for s in range(int(len(axis_s)/2)):\n",
    "        print([s, len(axis_s) - s-1], 'SWAP')\n",
    "        state.apply_U(SWAP(), axis = [s, len(axis_s) - s-1])\n",
    "        \n",
    "    ###########\n",
    "    state.split_system(na = len(axis_s), nb = len(axis_u))\n",
    "    coefs = state.get_A_coefs()\n",
    "    tar_coefs = np.fft.fft(coefs.copy(), norm='ortho')\n",
    "    ##########\n",
    "            \n",
    "    Fourier_transfer(state, axis_s, noisy = False, e = 10e-6, inv = True)\n",
    "    \n",
    "    for ax in axis_s:\n",
    "#         print(ax)\n",
    "        state.apply_U(H(), axis = [ax])\n",
    "    \n",
    "    state.split_system(na = len(axis_s), nb = len(axis_u))\n",
    "    \n",
    "    return state, tar_coefs, coefs\n",
    "    "
   ]
  },
  {
   "cell_type": "code",
   "execution_count": 488,
   "id": "ba0a20fa",
   "metadata": {},
   "outputs": [
    {
     "data": {
      "text/plain": [
       "[2, 5]"
      ]
     },
     "execution_count": 488,
     "metadata": {},
     "output_type": "execute_result"
    }
   ],
   "source": [
    "(list(set([5])|set(list(na+np.array(range(nb))))))"
   ]
  },
  {
   "cell_type": "code",
   "execution_count": 489,
   "id": "cdd1c7bd",
   "metadata": {},
   "outputs": [
    {
     "data": {
      "text/plain": [
       "[0, 2]"
      ]
     },
     "execution_count": 489,
     "metadata": {},
     "output_type": "execute_result"
    }
   ],
   "source": [
    "list(set([1-1])|set([2]))"
   ]
  },
  {
   "cell_type": "code",
   "execution_count": 490,
   "id": "66caddaa",
   "metadata": {},
   "outputs": [
    {
     "data": {
      "text/plain": [
       "[2]"
      ]
     },
     "execution_count": 490,
     "metadata": {},
     "output_type": "execute_result"
    }
   ],
   "source": [
    "list(na+np.array(range(nb)))"
   ]
  },
  {
   "cell_type": "code",
   "execution_count": 491,
   "id": "b77fbfe8",
   "metadata": {},
   "outputs": [
    {
     "name": "stdout",
     "output_type": "stream",
     "text": [
      "0 H\n",
      "1 H\n",
      "[0, 2] CU** 0\n",
      "[1, 2] CU** 1\n",
      "[0, 1] SWAP\n",
      "\n",
      "Fourier_inv\n",
      "______________\n",
      "SWAP [0, 1]\n",
      "H [1]\n",
      "CR [1, 0]\n",
      "H [0]\n"
     ]
    }
   ],
   "source": [
    "state_new, tar_coefs, coefs = Phase_estimation(state, U = U.get_U(), u_vec = U.get_vec(), axis_u = list(na+np.array(range(nb))), axis_s = list(range(na)))"
   ]
  },
  {
   "cell_type": "code",
   "execution_count": 478,
   "id": "fb5febb5",
   "metadata": {},
   "outputs": [
    {
     "data": {
      "text/plain": [
       "(array([0.4242211 -0.04931j   , 0.04672499+0.14976912j,\n",
       "        0.32767198+0.00160685j, 0.35042222-0.01039088j,\n",
       "        0.36096229-0.01594937j, 0.36886792-0.02011854j,\n",
       "        0.3771816 -0.0245029j , 0.3896992 -0.03110428j]),\n",
       " array([ 0.93541435+0.j        , -0.10523258-0.08236047j,\n",
       "        -0.03210828-0.12971585j,  0.05466278-0.12193901j,\n",
       "         0.1182009 -0.0623353j ,  0.13150093+0.02376235j,\n",
       "         0.08891004+0.09976045j,  0.00853034+0.13335807j]))"
      ]
     },
     "execution_count": 478,
     "metadata": {},
     "output_type": "execute_result"
    }
   ],
   "source": [
    "tar_coefs, coefs"
   ]
  },
  {
   "cell_type": "code",
   "execution_count": 479,
   "id": "d3068727",
   "metadata": {},
   "outputs": [
    {
     "data": {
      "text/plain": [
       "(array([1.+0.j, 0.+0.j, 0.+0.j, 0.+0.j, 0.+0.j, 0.+0.j, 0.+0.j, 0.+0.j]),\n",
       " array([ 0.89300829+0.j        , -0.13463867+0.42942825j]))"
      ]
     },
     "execution_count": 479,
     "metadata": {},
     "output_type": "execute_result"
    }
   ],
   "source": [
    "state.get_A_coefs(), state.get_B_coefs()"
   ]
  },
  {
   "cell_type": "code",
   "execution_count": 480,
   "id": "86a3707d",
   "metadata": {},
   "outputs": [
    {
     "data": {
      "text/plain": [
       "(array([ 0.89300829+0.j        , -0.13463867+0.42942825j]),\n",
       " array([ 9.83870892e-01+0.00000000e+00j, -2.33446543e-17+1.12138617e-02j,\n",
       "        -4.42135050e-18+2.54538937e-02j,  8.77654923e-03-8.97635590e-19j,\n",
       "        -1.07131533e-16+1.31389808e-01j,  4.53034468e-02+4.57238033e-17j,\n",
       "         1.02832472e-01+1.00727363e-16j,  5.34453938e-17-3.54568249e-02j]),\n",
       " array([0.98387089, 0.01121386, 0.02545389, 0.00877655, 0.13138981,\n",
       "        0.04530345, 0.10283247, 0.03545682]))"
      ]
     },
     "execution_count": 480,
     "metadata": {},
     "output_type": "execute_result"
    }
   ],
   "source": [
    "state_new.get_B_coefs(),  state_new.get_A_coefs(), abs(state_new.get_A_coefs())"
   ]
  },
  {
   "cell_type": "code",
   "execution_count": 481,
   "id": "c9a99808",
   "metadata": {},
   "outputs": [
    {
     "data": {
      "text/plain": [
       "(0.10569048514075366-4.513116099613875e-18j)"
      ]
     },
     "execution_count": 481,
     "metadata": {},
     "output_type": "execute_result"
    }
   ],
   "source": [
    "U.get_phi()"
   ]
  },
  {
   "cell_type": "code",
   "execution_count": 482,
   "id": "3e11b703",
   "metadata": {},
   "outputs": [
    {
     "data": {
      "text/plain": [
       "array([ 9.83870892e-01+0.00000000e+00j, -2.33446543e-17+1.12138617e-02j,\n",
       "       -4.42135050e-18+2.54538937e-02j,  8.77654923e-03-8.97635590e-19j,\n",
       "       -1.07131533e-16+1.31389808e-01j,  4.53034468e-02+4.57238033e-17j,\n",
       "        1.02832472e-01+1.00727363e-16j,  5.34453938e-17-3.54568249e-02j])"
      ]
     },
     "execution_count": 482,
     "metadata": {},
     "output_type": "execute_result"
    }
   ],
   "source": [
    "state_new.get_A_coefs()"
   ]
  },
  {
   "cell_type": "code",
   "execution_count": 483,
   "id": "0c43ff9f",
   "metadata": {},
   "outputs": [
    {
     "data": {
      "text/plain": [
       "0"
      ]
     },
     "execution_count": 483,
     "metadata": {},
     "output_type": "execute_result"
    }
   ],
   "source": [
    "np.argmax(state_new.get_A_coefs())"
   ]
  },
  {
   "cell_type": "code",
   "execution_count": 484,
   "id": "0cf3d7c2",
   "metadata": {},
   "outputs": [
    {
     "data": {
      "text/plain": [
       "0.0"
      ]
     },
     "execution_count": 484,
     "metadata": {},
     "output_type": "execute_result"
    }
   ],
   "source": [
    "i = 1\n",
    "phi = 0\n",
    "for a in bin(np.argmax(abs(tar_coefs)))[2:]:\n",
    "    phi += int(a)*2**(-i)\n",
    "    i+=1\n",
    "phi"
   ]
  },
  {
   "cell_type": "code",
   "execution_count": 485,
   "id": "14f58aca",
   "metadata": {},
   "outputs": [
    {
     "data": {
      "text/plain": [
       "((0.10569048514075366-4.513116099613875e-18j),\n",
       " (0.7874885203236337+0.6163293197297156j))"
      ]
     },
     "execution_count": 485,
     "metadata": {},
     "output_type": "execute_result"
    }
   ],
   "source": [
    "U.get_phi(), U.get_val() "
   ]
  },
  {
   "cell_type": "code",
   "execution_count": 411,
   "id": "d938c301",
   "metadata": {},
   "outputs": [
    {
     "ename": "NameError",
     "evalue": "name 'd' is not defined",
     "output_type": "error",
     "traceback": [
      "\u001b[0;31m---------------------------------------------------------------------------\u001b[0m",
      "\u001b[0;31mNameError\u001b[0m                                 Traceback (most recent call last)",
      "\u001b[0;32m<ipython-input-411-743d0f4baf73>\u001b[0m in \u001b[0;36m<module>\u001b[0;34m\u001b[0m\n\u001b[0;32m----> 1\u001b[0;31m \u001b[0mC_list\u001b[0m \u001b[0;34m=\u001b[0m \u001b[0mnp\u001b[0m\u001b[0;34m.\u001b[0m\u001b[0mrandom\u001b[0m\u001b[0;34m.\u001b[0m\u001b[0mnormal\u001b[0m\u001b[0;34m(\u001b[0m\u001b[0;36m0\u001b[0m\u001b[0;34m,\u001b[0m \u001b[0;36m1\u001b[0m\u001b[0;34m,\u001b[0m \u001b[0msize\u001b[0m\u001b[0;34m=\u001b[0m\u001b[0;34m(\u001b[0m\u001b[0md\u001b[0m\u001b[0;34m,\u001b[0m \u001b[0mk\u001b[0m\u001b[0;34m)\u001b[0m\u001b[0;34m)\u001b[0m \u001b[0;34m+\u001b[0m \u001b[0;36m1j\u001b[0m\u001b[0;34m*\u001b[0m\u001b[0mnp\u001b[0m\u001b[0;34m.\u001b[0m\u001b[0mrandom\u001b[0m\u001b[0;34m.\u001b[0m\u001b[0mnormal\u001b[0m\u001b[0;34m(\u001b[0m\u001b[0;36m0\u001b[0m\u001b[0;34m,\u001b[0m \u001b[0;36m1\u001b[0m\u001b[0;34m,\u001b[0m \u001b[0msize\u001b[0m\u001b[0;34m=\u001b[0m\u001b[0;34m(\u001b[0m\u001b[0md\u001b[0m\u001b[0;34m,\u001b[0m \u001b[0mk\u001b[0m\u001b[0;34m)\u001b[0m\u001b[0;34m)\u001b[0m\u001b[0;34m\u001b[0m\u001b[0;34m\u001b[0m\u001b[0m\n\u001b[0m\u001b[1;32m      2\u001b[0m \u001b[0mC_list\u001b[0m \u001b[0;34m=\u001b[0m \u001b[0mC_list\u001b[0m\u001b[0;34m/\u001b[0m\u001b[0;34m(\u001b[0m\u001b[0mnp\u001b[0m\u001b[0;34m.\u001b[0m\u001b[0msqrt\u001b[0m\u001b[0;34m(\u001b[0m\u001b[0mnp\u001b[0m\u001b[0;34m.\u001b[0m\u001b[0msum\u001b[0m\u001b[0;34m(\u001b[0m\u001b[0mC_list\u001b[0m\u001b[0;34m*\u001b[0m\u001b[0mnp\u001b[0m\u001b[0;34m.\u001b[0m\u001b[0mconjugate\u001b[0m\u001b[0;34m(\u001b[0m\u001b[0mC_list\u001b[0m\u001b[0;34m)\u001b[0m\u001b[0;34m)\u001b[0m\u001b[0;34m)\u001b[0m\u001b[0;34m)\u001b[0m\u001b[0;34m\u001b[0m\u001b[0;34m\u001b[0m\u001b[0m\n\u001b[1;32m      3\u001b[0m \u001b[0mC_list\u001b[0m \u001b[0;34m=\u001b[0m \u001b[0mnp\u001b[0m\u001b[0;34m.\u001b[0m\u001b[0mreshape\u001b[0m\u001b[0;34m(\u001b[0m\u001b[0mC_list\u001b[0m\u001b[0;34m,\u001b[0m \u001b[0;34m[\u001b[0m\u001b[0;36m1\u001b[0m\u001b[0;34m,\u001b[0m\u001b[0md\u001b[0m\u001b[0;34m,\u001b[0m\u001b[0mk\u001b[0m\u001b[0;34m,\u001b[0m\u001b[0;36m1\u001b[0m\u001b[0;34m]\u001b[0m\u001b[0;34m)\u001b[0m\u001b[0;34m\u001b[0m\u001b[0;34m\u001b[0m\u001b[0m\n\u001b[1;32m      4\u001b[0m \u001b[0mg_rho\u001b[0m \u001b[0;34m=\u001b[0m \u001b[0mnp\u001b[0m\u001b[0;34m.\u001b[0m\u001b[0mtensordot\u001b[0m\u001b[0;34m(\u001b[0m\u001b[0mC_list\u001b[0m\u001b[0;34m,\u001b[0m \u001b[0mnp\u001b[0m\u001b[0;34m.\u001b[0m\u001b[0mconjugate\u001b[0m\u001b[0;34m(\u001b[0m\u001b[0mC_list\u001b[0m\u001b[0;34m)\u001b[0m\u001b[0;34m,\u001b[0m \u001b[0;34m[\u001b[0m\u001b[0;36m0\u001b[0m\u001b[0;34m,\u001b[0m\u001b[0;36m3\u001b[0m\u001b[0;34m]\u001b[0m\u001b[0;34m)\u001b[0m\u001b[0;34m\u001b[0m\u001b[0;34m\u001b[0m\u001b[0m\n\u001b[1;32m      5\u001b[0m \u001b[0mg_rho\u001b[0m \u001b[0;34m=\u001b[0m \u001b[0mnp\u001b[0m\u001b[0;34m.\u001b[0m\u001b[0mreshape\u001b[0m\u001b[0;34m(\u001b[0m\u001b[0mg_rho\u001b[0m\u001b[0;34m,\u001b[0m \u001b[0;34m(\u001b[0m\u001b[0md\u001b[0m\u001b[0;34m,\u001b[0m\u001b[0mk\u001b[0m\u001b[0;34m,\u001b[0m\u001b[0md\u001b[0m\u001b[0;34m,\u001b[0m\u001b[0mk\u001b[0m\u001b[0;34m)\u001b[0m\u001b[0;34m)\u001b[0m\u001b[0;34m\u001b[0m\u001b[0;34m\u001b[0m\u001b[0m\n",
      "\u001b[0;31mNameError\u001b[0m: name 'd' is not defined"
     ]
    }
   ],
   "source": [
    "C_list = np.random.normal(0, 1, size=(d, k)) + 1j*np.random.normal(0, 1, size=(d, k))\n",
    "C_list = C_list/(np.sqrt(np.sum(C_list*np.conjugate(C_list))))\n",
    "C_list = np.reshape(C_list, [1,d,k,1])\n",
    "g_rho = np.tensordot(C_list, np.conjugate(C_list), [0,3])\n",
    "g_rho = np.reshape(g_rho, (d,k,d,k))\n",
    "rho = np.trace(g_rho, axis1=1, axis2=3)\n",
    "\n",
    "vec = np.reshape(vec, [1, len(vec)])\n",
    "vec = vec/np.sqrt(np.dot(vec, vec.conj().T))\n",
    "a = np.kron(vec, vec.T)\n",
    "s, v = LA.eig(a)\n",
    "np.abs(v.T[0])"
   ]
  },
  {
   "cell_type": "code",
   "execution_count": 1022,
   "id": "a86c71d0",
   "metadata": {},
   "outputs": [
    {
     "data": {
      "text/plain": [
       "array([[[[0],\n",
       "         [1],\n",
       "         [2],\n",
       "         [3]],\n",
       "\n",
       "        [[4],\n",
       "         [5],\n",
       "         [6],\n",
       "         [7]]]])"
      ]
     },
     "execution_count": 1022,
     "metadata": {},
     "output_type": "execute_result"
    }
   ],
   "source": [
    "np.reshape([0,1,2,3,4,5,6,7], [1,2,4,1])"
   ]
  },
  {
   "cell_type": "code",
   "execution_count": 126,
   "id": "d243f708",
   "metadata": {},
   "outputs": [
    {
     "data": {
      "text/plain": [
       "(array([[0.26726124, 0.53452248, 0.80178373]]),\n",
       " array([[0.07142857, 0.14285714, 0.21428571],\n",
       "        [0.14285714, 0.28571429, 0.42857143],\n",
       "        [0.21428571, 0.42857143, 0.64285714]]),\n",
       " array([1.00000000e+00+0.00000000e+00j, 1.02405835e-47+2.41904155e-24j,\n",
       "        1.02405835e-47-2.41904155e-24j]),\n",
       " array([0.26726124, 0.53452248, 0.80178373]))"
      ]
     },
     "execution_count": 126,
     "metadata": {},
     "output_type": "execute_result"
    }
   ],
   "source": [
    "vec = np.array([1,2,3])\n",
    "vec = np.reshape(vec, [1, len(vec)])\n",
    "vec = vec/np.sqrt(np.dot(vec, vec.conj().T))\n",
    "a = np.kron(vec, vec.T)\n",
    "s, v = LA.eig(a)\n",
    "vec, a, s, np.abs(v.T[0])"
   ]
  },
  {
   "cell_type": "code",
   "execution_count": 302,
   "id": "378b67fd",
   "metadata": {},
   "outputs": [
    {
     "data": {
      "text/plain": [
       "0.37"
      ]
     },
     "execution_count": 302,
     "metadata": {},
     "output_type": "execute_result"
    }
   ],
   "source": [
    "0.37"
   ]
  },
  {
   "cell_type": "code",
   "execution_count": 309,
   "id": "51a0f19f",
   "metadata": {},
   "outputs": [
    {
     "data": {
      "text/plain": [
       "0.34375"
      ]
     },
     "execution_count": 309,
     "metadata": {},
     "output_type": "execute_result"
    }
   ],
   "source": [
    "1/4+1/16 + 1/32 "
   ]
  },
  {
   "cell_type": "code",
   "execution_count": 492,
   "id": "d685256a",
   "metadata": {},
   "outputs": [],
   "source": [
    "def phase_estimation(state, t, n, u_target):\n",
    "    for i in range(0, t, 1):\n",
    "        state.apply_U(H(), axis = [i])\n",
    "        \n",
    "    for i in range(t - 1, -1, -1):\n",
    "        for j in range(2 ** (t - i - 1)):\n",
    "#             U_pow = LA.matrix_power(U, n = 2**i)\n",
    "            CU = build_CU(u_target)\n",
    "            state.apply_U(CU, axis = [i] + list(np.arange(t, t + n, 1)))\n",
    "    QFT_inverse(state, t)\n",
    "\n",
    "\n",
    "def QFT_inverse(state, t):\n",
    "    for i in range(int(t / 2)):\n",
    "        state.apply_U(SWAP(), [i, t - i - 1])\n",
    "    state.apply_U(H(), [t - 1])\n",
    "    for i in range(t - 2, -1, -1):\n",
    "        for j in range(t - i, 1, -1):\n",
    "            state.apply_U(CR(j).T.conjugate(), axis = [i, i + j - 1])\n",
    "        state.apply_U(H(), [i])\n",
    "\n",
    "\n",
    "def QFT(state, t):\n",
    "    for i in range(0, t - 1, 1):\n",
    "        state.apply_U(H(), [i])\n",
    "        for j in range(2, t - i + 1, 1):\n",
    "            state.apply_U(CR(j), axis = [i, i + j - 1])\n",
    "    state.apply_U(H(), [t - 1])\n",
    "    for i in range(int(t / 2)):\n",
    "        state.apply_U(SWAP(), i, t - i - 1)\n"
   ]
  },
  {
   "cell_type": "code",
   "execution_count": 493,
   "id": "88edc121",
   "metadata": {},
   "outputs": [
    {
     "name": "stdout",
     "output_type": "stream",
     "text": [
      "(0.10569048514075366-4.513116099613875e-18j)\n"
     ]
    }
   ],
   "source": [
    "# Зададим количество кубитов\n",
    "np.random.seed(10)\n",
    "na = 2\n",
    "nb = 1\n",
    "state_zero = Qpsi(na)\n",
    "state_zero.build_zero_state()\n",
    "\n",
    "U = Unitary(nb)\n",
    "U.build_matrix(random = True)\n",
    "# U.build_matrix(U = [[1,0], [0,1]], random = False)\n",
    "print(U.get_phi())\n",
    "\n",
    "s, v = LA.eig(U.get_U())\n",
    "\n",
    "u_vec = U.get_vec()\n",
    "coefs = np.kron(state_zero.get_coefs() ,u_vec)\n",
    "\n",
    "state = Qpsi(na+nb)\n",
    "state.set_coefs(coefs)\n",
    "state.split_system(na, nb)"
   ]
  },
  {
   "cell_type": "code",
   "execution_count": 494,
   "id": "bda8d7b3",
   "metadata": {},
   "outputs": [
    {
     "ename": "NameError",
     "evalue": "name 'axis' is not defined",
     "output_type": "error",
     "traceback": [
      "\u001b[0;31m---------------------------------------------------------------------------\u001b[0m",
      "\u001b[0;31mNameError\u001b[0m                                 Traceback (most recent call last)",
      "\u001b[0;32m<ipython-input-494-2b153280f295>\u001b[0m in \u001b[0;36m<module>\u001b[0;34m\u001b[0m\n\u001b[0;32m----> 1\u001b[0;31m \u001b[0mphase_estimation\u001b[0m\u001b[0;34m(\u001b[0m\u001b[0mstate\u001b[0m\u001b[0;34m,\u001b[0m \u001b[0mna\u001b[0m\u001b[0;34m,\u001b[0m \u001b[0mnb\u001b[0m\u001b[0;34m,\u001b[0m \u001b[0mU\u001b[0m\u001b[0;34m.\u001b[0m\u001b[0mget_U\u001b[0m\u001b[0;34m(\u001b[0m\u001b[0;34m)\u001b[0m\u001b[0;34m)\u001b[0m\u001b[0;34m\u001b[0m\u001b[0;34m\u001b[0m\u001b[0m\n\u001b[0m",
      "\u001b[0;32m<ipython-input-492-5e8e3abc4404>\u001b[0m in \u001b[0;36mphase_estimation\u001b[0;34m(state, t, n, u_target)\u001b[0m\n\u001b[1;32m      7\u001b[0m \u001b[0;31m#             U_pow = LA.matrix_power(U, n = 2**i)\u001b[0m\u001b[0;34m\u001b[0m\u001b[0;34m\u001b[0m\u001b[0;34m\u001b[0m\u001b[0m\n\u001b[1;32m      8\u001b[0m             \u001b[0mCU\u001b[0m \u001b[0;34m=\u001b[0m \u001b[0mbuild_CU\u001b[0m\u001b[0;34m(\u001b[0m\u001b[0mu_target\u001b[0m\u001b[0;34m)\u001b[0m\u001b[0;34m\u001b[0m\u001b[0;34m\u001b[0m\u001b[0m\n\u001b[0;32m----> 9\u001b[0;31m             \u001b[0mstate\u001b[0m\u001b[0;34m.\u001b[0m\u001b[0mapply_U\u001b[0m\u001b[0;34m(\u001b[0m\u001b[0mCU\u001b[0m\u001b[0;34m,\u001b[0m \u001b[0maxis\u001b[0m\u001b[0;34m[\u001b[0m\u001b[0mi\u001b[0m\u001b[0;34m]\u001b[0m \u001b[0;34m+\u001b[0m \u001b[0mlist\u001b[0m\u001b[0;34m(\u001b[0m\u001b[0mnp\u001b[0m\u001b[0;34m.\u001b[0m\u001b[0marange\u001b[0m\u001b[0;34m(\u001b[0m\u001b[0mt\u001b[0m\u001b[0;34m,\u001b[0m \u001b[0mt\u001b[0m \u001b[0;34m+\u001b[0m \u001b[0mn\u001b[0m\u001b[0;34m,\u001b[0m \u001b[0;36m1\u001b[0m\u001b[0;34m)\u001b[0m\u001b[0;34m)\u001b[0m\u001b[0;34m)\u001b[0m\u001b[0;34m\u001b[0m\u001b[0;34m\u001b[0m\u001b[0m\n\u001b[0m\u001b[1;32m     10\u001b[0m     \u001b[0mQFT_inverse\u001b[0m\u001b[0;34m(\u001b[0m\u001b[0mstate\u001b[0m\u001b[0;34m,\u001b[0m \u001b[0mt\u001b[0m\u001b[0;34m)\u001b[0m\u001b[0;34m\u001b[0m\u001b[0;34m\u001b[0m\u001b[0m\n\u001b[1;32m     11\u001b[0m \u001b[0;34m\u001b[0m\u001b[0m\n",
      "\u001b[0;31mNameError\u001b[0m: name 'axis' is not defined"
     ]
    }
   ],
   "source": [
    "phase_estimation(state, na, nb, U.get_U())"
   ]
  },
  {
   "cell_type": "code",
   "execution_count": null,
   "id": "c201d3c8",
   "metadata": {},
   "outputs": [],
   "source": []
  }
 ],
 "metadata": {
  "kernelspec": {
   "display_name": "Python 3",
   "language": "python",
   "name": "python3"
  },
  "language_info": {
   "codemirror_mode": {
    "name": "ipython",
    "version": 3
   },
   "file_extension": ".py",
   "mimetype": "text/x-python",
   "name": "python",
   "nbconvert_exporter": "python",
   "pygments_lexer": "ipython3",
   "version": "3.7.11"
  }
 },
 "nbformat": 4,
 "nbformat_minor": 5
}
