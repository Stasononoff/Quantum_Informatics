{
 "cells": [
  {
   "cell_type": "code",
   "execution_count": 1,
   "id": "af4c9c58",
   "metadata": {},
   "outputs": [],
   "source": [
    "%load_ext autoreload\n",
    "%autoreload 2"
   ]
  },
  {
   "cell_type": "code",
   "execution_count": 2,
   "id": "bc47e807",
   "metadata": {},
   "outputs": [],
   "source": [
    "import numpy as np\n",
    "import copy\n",
    "import itertools\n",
    "from scipy import linalg as sLA\n",
    "from numpy import linalg as LA\n",
    "import time\n",
    "from numba import njit\n",
    "from numba import jit\n",
    "from copy import deepcopy\n",
    "from scipy.stats import unitary_group\n",
    "import cmath\n",
    "from matplotlib import pyplot as plt\n",
    "\n",
    "\n",
    "\n",
    "import sys\n",
    "sys.path.append(\"../scripts\")\n",
    "\n",
    "\n",
    "\n",
    "from Gates import *\n",
    "from functions import *\n",
    "from state import *\n",
    "from Unitary import *"
   ]
  },
  {
   "cell_type": "code",
   "execution_count": 76,
   "id": "c0ba712c",
   "metadata": {},
   "outputs": [
    {
     "name": "stdout",
     "output_type": "stream",
     "text": [
      "Real phase =  0.08653650632156695\n",
      "Estimate phase =  0.09375\n"
     ]
    }
   ],
   "source": [
    "np.random.seed(10)\n",
    "\n",
    "na = 6\n",
    "nb = 4\n",
    "\n",
    "U = Unitary(nb)\n",
    "U.build_matrix(random = True)\n",
    "\n",
    "eig_vector = U.get_vec()\n",
    "eig_value = U.get_val()\n",
    "\n",
    "\n",
    "state = Qpsi(na+nb)\n",
    "state_zero = Qpsi(na)\n",
    "state_zero.build_zero_state()\n",
    "\n",
    "full_vector_n = eig_vector\n",
    "full_vector = np.kron(state_zero.get_coefs(), full_vector_n)\n",
    "state.set_coefs(full_vector)\n",
    "\n",
    "\n",
    "phase_estimation(state, na, nb, U.get_U())\n",
    "\n",
    "i_max = 0\n",
    "max_overlap = 0\n",
    "for i in range(2 ** na):\n",
    "    full_vector_left_t = np.zeros(2 ** na, dtype=complex)\n",
    "    full_vector_left_t[i] = 1.0\n",
    "    full_vector_left = np.kron(full_vector_left_t, full_vector_n)\n",
    "    overlap = np.abs(np.dot(full_vector_left.conjugate(), state.get_coefs()))\n",
    "    # print(i, np.abs(overlap) ** 2)\n",
    "    if overlap > max_overlap:\n",
    "        i_max = i\n",
    "        max_overlap = overlap\n",
    "# print(i_max, max_overlap)\n",
    "real_phase = U.get_phi()\n",
    "if real_phase < 0:\n",
    "    real_phase = 1 + real_phase\n",
    "print('Real phase = ', real_phase)\n",
    "print('Estimate phase = ', i_max / (2 ** na))"
   ]
  },
  {
   "cell_type": "code",
   "execution_count": 81,
   "id": "b48a0ebb",
   "metadata": {},
   "outputs": [],
   "source": [
    "np.random.seed(12)\n",
    "\n",
    "nb = 1\n",
    "\n",
    "U = Unitary(nb)\n",
    "U.build_matrix(random = True)\n",
    "\n",
    "eig_vector = U.get_vec()\n",
    "eig_value = U.get_val()\n",
    "\n",
    "n_list = []\n",
    "err_list = []\n",
    "\n",
    "for na in range(1,13):\n",
    "    state = Qpsi(na+nb)\n",
    "    state_zero = Qpsi(na)\n",
    "    state_zero.build_zero_state()\n",
    "\n",
    "    full_vector_n = eig_vector\n",
    "    full_vector = np.kron(state_zero.get_coefs(), full_vector_n)\n",
    "    state.set_coefs(full_vector)\n",
    "\n",
    "\n",
    "    phase_estimation(state, na, nb, U.get_U())\n",
    "\n",
    "    i_max = 0\n",
    "    max_overlap = 0\n",
    "    for i in range(2 ** na):\n",
    "        full_vector_left_t = np.zeros(2 ** na, dtype=complex)\n",
    "        full_vector_left_t[i] = 1.0\n",
    "        full_vector_left = np.kron(full_vector_left_t, full_vector_n)\n",
    "        overlap = np.abs(np.dot(full_vector_left.conjugate(), state.get_coefs()))\n",
    "        # print(i, np.abs(overlap) ** 2)\n",
    "        if overlap > max_overlap:\n",
    "            i_max = i\n",
    "            max_overlap = overlap\n",
    "    # print(i_max, max_overlap)\n",
    "    real_phase = U.get_phi()\n",
    "    if real_phase < 0:\n",
    "        real_phase = 1 + real_phase\n",
    "        \n",
    "    n_list.append(na)\n",
    "    err_list.append(abs(i_max / (2 ** na) - real_phase))\n",
    "\n",
    "\n"
   ]
  },
  {
   "cell_type": "code",
   "execution_count": 91,
   "id": "9c7fa1ed",
   "metadata": {},
   "outputs": [
    {
     "data": {
      "text/plain": [
       "[]"
      ]
     },
     "execution_count": 91,
     "metadata": {},
     "output_type": "execute_result"
    },
    {
     "data": {
      "image/png": "[encoded data removed]",
      "text/plain": [
       "<Figure size 432x288 with 1 Axes>"
      ]
     },
     "metadata": {
      "needs_background": "light"
     },
     "output_type": "display_data"
    }
   ],
   "source": [
    "plt.title('Зависимость ошибки оценки фазы от числа кубитов в регистре')\n",
    "plt.scatter(n_list, np.log2(err_list), label = str(nb)+ ' q unitary')\n",
    "plt.legend()\n",
    "plt.ylabel('Err')\n",
    "plt.xlabel('qubit number')\n",
    "plt.plot()"
   ]
  },
  {
   "cell_type": "code",
   "execution_count": 89,
   "id": "bfdf02c2",
   "metadata": {},
   "outputs": [
    {
     "name": "stdout",
     "output_type": "stream",
     "text": [
      "30.334323682284264\n",
      "61699.92365261544\n",
      "2.820507505565796e-16\n"
     ]
    }
   ],
   "source": [
    "# state = Qpsi(2)\n",
    "# # state.build_zero_state()\n",
    "# state.build_random_state()\n",
    "# coefs = state.get_coefs()\n",
    "\n",
    "# Fourier_transfer(state, na, noisy = False, eps = 10e-6, inv = False)\n",
    "# inv_coefs = np.fft.ifft(coefs, norm='ortho')\n",
    "# print(sum(abs(state.get_coefs() - inv_coefs)))\n",
    "\n",
    "# Fourier_transfer(state, na, noisy = False, eps = 10e-6, inv = True)\n",
    "# ret_coefs = np.fft.fft(inv_coefs, norm='ortho')\n",
    "# print(sum(abs(state.get_coefs() - ret_coefs)))\n",
    "# print(sum(abs(ret_coefs - coefs)))"
   ]
  },
  {
   "cell_type": "code",
   "execution_count": null,
   "id": "961d8ed0",
   "metadata": {},
   "outputs": [],
   "source": []
  },
  {
   "cell_type": "code",
   "execution_count": null,
   "id": "a5b3df4c",
   "metadata": {},
   "outputs": [],
   "source": []
  }
 ],
 "metadata": {
  "kernelspec": {
   "display_name": "Python 3",
   "language": "python",
   "name": "python3"
  },
  "language_info": {
   "codemirror_mode": {
    "name": "ipython",
    "version": 3
   },
   "file_extension": ".py",
   "mimetype": "text/x-python",
   "name": "python",
   "nbconvert_exporter": "python",
   "pygments_lexer": "ipython3",
   "version": "3.7.11"
  }
 },
 "nbformat": 4,
 "nbformat_minor": 5
}
